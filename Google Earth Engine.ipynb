{
 "cells": [
  {
   "cell_type": "code",
   "execution_count": 1,
   "metadata": {},
   "outputs": [],
   "source": [
    "import ee; ee.Initialize()"
   ]
  },
  {
   "cell_type": "code",
   "execution_count": 2,
   "metadata": {},
   "outputs": [],
   "source": [
    "import ee.mapclient\n"
   ]
  },
  {
   "cell_type": "code",
   "execution_count": 4,
   "metadata": {},
   "outputs": [],
   "source": [
    "%matplotlib inline\n",
    "from IPython.display import Image\n"
   ]
  },
  {
   "cell_type": "code",
   "execution_count": 11,
   "metadata": {},
   "outputs": [],
   "source": [
    "# Import the Folium library.\n",
    "import folium\n",
    "\n",
    "# Define a method for displaying Earth Engine image tiles to folium map.\n",
    "def add_ee_layer(self, eeImageObject, visParams, name):\n",
    "    mapID = ee.Image(eeImageObject).getMapId(visParams)\n",
    "    folium.raster_layers.TileLayer(\n",
    "    tiles = \"https://earthengine.googleapis.com/map/\"+mapID['mapid']+\n",
    "      \"/{z}/{x}/{y}?token=\"+mapID['token'],\n",
    "    attr = \"Map Data &copy; <a href='https://earthengine.google.com/'>Google Earth Engine</a>\",\n",
    "    name = name,\n",
    "    overlay = True,\n",
    "    control = True\n",
    "  ).add_to(self)\n",
    "\n",
    "# Add EE drawing method to folium.\n",
    "folium.Map.add_ee_layer = add_ee_layer"
   ]
  },
  {
   "cell_type": "code",
   "execution_count": 12,
   "metadata": {},
   "outputs": [],
   "source": [
    "OldIMAGE  = ee.Image( 'CGIAR/SRTM90_V4' )\n",
    "MaskIMAGE = ee.Image( 'MCD12Q1/MCD12Q1_005_2001_01_01').select(['Land_Cover_Type_1']).neq(9)\n",
    "MaskedIMAGE  = OldIMAGE.mask( MaskIMAGE );"
   ]
  },
  {
   "cell_type": "code",
   "execution_count": 13,
   "metadata": {},
   "outputs": [
    {
     "data": {
      "text/html": [
       "<div style=\"width:100%;\"><div style=\"position:relative;width:100%;height:0;padding-bottom:60%;\"><iframe src=\"data:text/html;charset=utf-8;base64,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\" style=\"position:absolute;width:100%;height:100%;left:0;top:0;border:none !important;\" allowfullscreen webkitallowfullscreen mozallowfullscreen></iframe></div></div>"
      ],
      "text/plain": [
       "<folium.folium.Map at 0x639df8b90>"
      ]
     },
     "metadata": {},
     "output_type": "display_data"
    }
   ],
   "source": [
    "# Create a folium map object.\n",
    "myMap = folium.Map(location=[20,0], zoom_start=3, height=500)\n",
    "\n",
    "# Set visualization parameters.\n",
    "visParams = {'min':0, 'max':3000, 'palette':['225ea8','41b6c4','a1dab4','ffffcc']}\n",
    "visParamsold = { 'min':0, 'max':1400, 'palette':['000000','ff00ff']}\n",
    "visParamsmask = { 'min':0, 'max':1400, 'palette':['000000','0000ff']}\n",
    "\n",
    "# Add to the map object.\n",
    "myMap.add_ee_layer(OldIMAGE, visParamsold, 'Old')\n",
    "myMap.add_ee_layer(MaskedIMAGE, visParamsmask, 'Masked')\n",
    "\n",
    "# Add a layer control panel to the map.\n",
    "myMap.add_child(folium.LayerControl())\n",
    "\n",
    "# Display the map.\n",
    "display(myMap)"
   ]
  },
  {
   "cell_type": "code",
   "execution_count": 5,
   "metadata": {},
   "outputs": [
    {
     "name": "stdout",
     "output_type": "stream",
     "text": [
      "{'type': 'Image', 'bands': [{'id': 'elevation', 'data_type': {'type': 'PixelType', 'precision': 'int', 'min': -32768, 'max': 32767}, 'dimensions': [432000, 144000], 'crs': 'EPSG:4326', 'crs_transform': [0.000833333333333, 0.0, -180.0, 0.0, -0.000833333333333, 60.0]}], 'version': 1494271934303000, 'id': 'srtm90_v4', 'properties': {'system:time_start': 950227200000, 'system:time_end': 951177600000, 'system:asset_size': 18827626666}}\n"
     ]
    }
   ],
   "source": [
    "image = ee.Image('srtm90_v4')\n",
    "print(image.getInfo())\n"
   ]
  },
  {
   "cell_type": "code",
   "execution_count": 7,
   "metadata": {},
   "outputs": [
    {
     "name": "stdout",
     "output_type": "stream",
     "text": [
      "https://earthengine.googleapis.com/api/download?docid=57067cb8d7f7618d88b4fa052546f82c&token=83f32f0c73781b21aa5245bb246fcd74\n"
     ]
    }
   ],
   "source": [
    "image1 = ee.Image('srtm90_v4')\n",
    "path = image1.getDownloadUrl({\n",
    "    'scale': 30,\n",
    "    'crs': 'EPSG:4326',\n",
    "    'region': '[[-120, 35], [-119, 35], [-119, 34], [-120, 34]]'\n",
    "})\n",
    "print(path)"
   ]
  },
  {
   "cell_type": "code",
   "execution_count": 15,
   "metadata": {},
   "outputs": [
    {
     "ename": "AttributeError",
     "evalue": "'Image' object has no attribute 'mean'",
     "output_type": "error",
     "traceback": [
      "\u001b[0;31m---------------------------------------------------------------------------\u001b[0m",
      "\u001b[0;31mAttributeError\u001b[0m                            Traceback (most recent call last)",
      "\u001b[0;32m<ipython-input-15-37e26b589f51>\u001b[0m in \u001b[0;36m<module>\u001b[0;34m\u001b[0m\n\u001b[1;32m      2\u001b[0m \u001b[0;34m\u001b[0m\u001b[0m\n\u001b[1;32m      3\u001b[0m \u001b[0;31m# Reduce image collection to mean\u001b[0m\u001b[0;34m\u001b[0m\u001b[0;34m\u001b[0m\u001b[0;34m\u001b[0m\u001b[0m\n\u001b[0;32m----> 4\u001b[0;31m \u001b[0mprobav_mean\u001b[0m \u001b[0;34m=\u001b[0m \u001b[0mprobav\u001b[0m\u001b[0;34m.\u001b[0m\u001b[0mmean\u001b[0m\u001b[0;34m(\u001b[0m\u001b[0;34m)\u001b[0m\u001b[0;34m\u001b[0m\u001b[0;34m\u001b[0m\u001b[0m\n\u001b[0m\u001b[1;32m      5\u001b[0m \u001b[0;34m\u001b[0m\u001b[0m\n\u001b[1;32m      6\u001b[0m \u001b[0;31m# Set location to Europe (Proba-V Footprint: X18Y02)\u001b[0m\u001b[0;34m\u001b[0m\u001b[0;34m\u001b[0m\u001b[0;34m\u001b[0m\u001b[0m\n",
      "\u001b[0;31mAttributeError\u001b[0m: 'Image' object has no attribute 'mean'"
     ]
    }
   ],
   "source": [
    "probav = ee.Image('LC8_L1T_TOA/LC80410362015107LGN00')\n",
    "\n",
    "# Reduce image collection to mean\n",
    "probav_mean = probav.mean()\n",
    "\n",
    "# Set location to Europe (Proba-V Footprint: X18Y02) \n",
    "point = ee.Geometry.Point(6.134136, 49.612485)\n",
    "luxembourg = point.buffer(50000).bounds().getInfo()['coordinates']\n"
   ]
  },
  {
   "cell_type": "code",
   "execution_count": 9,
   "metadata": {},
   "outputs": [],
   "source": [
    "area_of_interest = ee.Geometry.Rectangle([-98.75, 19.15, -98.15,18.75])\n",
    "mexico_landcover_2010_landsat = ee.Image(\"users/renekope/MEX_LC_2010_Landsat_v43\").clip(area_of_interest)\n",
    "landsat8_collection = ee.ImageCollection('LANDSAT/LC8_L1T_TOA').filterDate('2016-01-01', '2018-04-19').min()\n",
    "landsat8_collection = landsat8_collection.slice(0,9)\n"
   ]
  },
  {
   "cell_type": "code",
   "execution_count": 10,
   "metadata": {},
   "outputs": [
    {
     "data": {
      "text/html": [
       "<img src=\"https://earthengine.googleapis.com/api/thumb?thumbid=fad56dc948f25132f4df4026f0956a70&token=c55ecc599f753025da2ec602c6e802ce\"/>"
      ],
      "text/plain": [
       "<IPython.core.display.Image object>"
      ]
     },
     "execution_count": 10,
     "metadata": {},
     "output_type": "execute_result"
    }
   ],
   "source": [
    "vis = {\n",
    "    'bands': ['B6', 'B5', 'B2'],\n",
    "    'min': 0,\n",
    "    'max': 0.5,\n",
    "    'gamma': [0.95, 1.1, 1],\n",
    "    'region':area_of_interest.getInfo()['coordinates']} \n",
    "image = landsat8_collection.clip(area_of_interest)\n",
    "theGeom = area_of_interest.getInfo()['coordinates']\n",
    "thumbnail = image.getThumbUrl(vis)\n",
    "Image(url=thumbnail)\n"
   ]
  },
  {
   "cell_type": "code",
   "execution_count": 23,
   "metadata": {},
   "outputs": [
    {
     "data": {
      "text/plain": [
       "<ee.image.Image at 0x6435e4c18>"
      ]
     },
     "execution_count": 23,
     "metadata": {},
     "output_type": "execute_result"
    }
   ],
   "source": [
    "ee.Image('LC8_L1T_TOA/LC80410362015107LGN00')\n",
    "Map.setCenter( -118.2733, 34.0942, 12 ); \n"
   ]
  },
  {
   "cell_type": "code",
   "execution_count": 17,
   "metadata": {},
   "outputs": [
    {
     "data": {
      "text/html": [
       "<img src=\"https://earthengine.googleapis.com/api/thumb?thumbid=7d4048e7a8ed897edb0aed4f9568f9ff&token=bd2741e9dea3bdad82430f1a317ec18f\"/>"
      ],
      "text/plain": [
       "<IPython.core.display.Image object>"
      ]
     },
     "execution_count": 17,
     "metadata": {},
     "output_type": "execute_result"
    }
   ],
   "source": [
    "ndvi = probav_mean.normalizedDifference([\"NIR\", \"RED\"])\n",
    "Image(url=ndvi.getThumbUrl({\n",
    "    'region':luxembourg,\n",
    "    'min':-0.5,\n",
    "    'max':0.5,\n",
    "    'palette':['ffffe5','f7fcb9','d9f0a3','addd8e','78c679','41ab5d','238443','006837','004529']\n",
    "}))\n"
   ]
  },
  {
   "cell_type": "code",
   "execution_count": 21,
   "metadata": {},
   "outputs": [
    {
     "data": {
      "text/html": [
       "<img src=\"https://earthengine.googleapis.com/api/thumb?thumbid=8462e478c316ad60a112622421f43ba4&token=87e99c64f644dd61d32ff642b539a2cb\"/>"
      ],
      "text/plain": [
       "<IPython.core.display.Image object>"
      ]
     },
     "execution_count": 21,
     "metadata": {},
     "output_type": "execute_result"
    }
   ],
   "source": [
    "Image(url=probav_mean.getThumbUrl({\n",
    "    'region':luxembourg,\n",
    "    'min':0,\n",
    "    'max':255,\n",
    "    'bands':['NDVI'],\n",
    "    'palette':['ffffe5','f7fcb9','d9f0a3','addd8e','78c679','41ab5d','238443','006837','004529']\n",
    "}))\n"
   ]
  },
  {
   "cell_type": "code",
   "execution_count": 16,
   "metadata": {},
   "outputs": [],
   "source": [
    "def NDVI(image):\n",
    "    return image.normalizedDifference(['B5', 'B4'])\n",
    "\n",
    "def SAM(image):\n",
    "    band1 = image.select(\"B1\")\n",
    "    bandn = image.select(\"B2\",\"B3\",\"B4\",\"B5\",\"B6\",\"B7\",\"B8\",\"B9\");\n",
    "    maxObjSize = 256;\n",
    "    b = band1.divide(bandn);\n",
    "    spectralAngleMap = b.atan();\n",
    "    spectralAngleMap_sin = spectralAngleMap.sin();\n",
    "    spectralAngleMap_cos = spectralAngleMap.cos();\n",
    "    sum_cos = spectralAngleMap_cos.reduce(ee.call(\"Reducer.sum\"));\n",
    "    sum_sin = spectralAngleMap_sin.reduce(ee.call(\"Reducer.sum\"));\n",
    "    return ee.Image.cat(sum_sin, sum_cos, spectralAngleMap_sin, spectralAngleMap_cos);\n",
    "\n",
    "#Enhanced Vegetation Index\n",
    "def EVI(image):\n",
    "    # L(Canopy background)\n",
    "    # C1,C2(Coefficients of aerosol resistance term)\n",
    "    # GainFactor(Gain or scaling factor)\n",
    "    gain_factor = ee.Image(2.5);\n",
    "    coefficient_1 = ee.Image(6);\n",
    "    coefficient_2 = ee.Image(7.5);\n",
    "    l = ee.Image(1);\n",
    "    nir = image.select(\"B5\");\n",
    "    red = image.select(\"B4\");\n",
    "    blue = image.select(\"B2\");\n",
    "    evi = image.expression(\n",
    "        \"Gain_Factor*((NIR-RED)/(NIR+C1*RED-C2*BLUE+L))\",\n",
    "        {\n",
    "            \"Gain_Factor\":gain_factor,\n",
    "            \"NIR\":nir,\n",
    "            \"RED\":red,\n",
    "            \"C1\":coefficient_1,\n",
    "            \"C2\":coefficient_2,\n",
    "            \"BLUE\":blue,\n",
    "            \"L\":l\n",
    "        }\n",
    "    )\n",
    "    return evi\n",
    "\n",
    "#Atmospherically Resistant Vegetation Index\n",
    "def ARVI(image):\n",
    "    red = image.select(\"B4\")\n",
    "    blue = image.select(\"B2\")\n",
    "    nir = image.select(\"B5\")\n",
    "    red_square = red.multiply(red)\n",
    "    arvi = image.expression(\n",
    "        \"NIR - (REDsq - BLUE)/(NIR+(REDsq-BLUE))\",{\n",
    "            \"NIR\": nir,\n",
    "            \"REDsq\": red_square,\n",
    "            \"BLUE\": blue\n",
    "        }\n",
    "    )\n",
    "    return arvi\n",
    "\n",
    "#Leaf Area Index\n",
    "def LAI(image):\n",
    "    nir = image.select(\"B5\")\n",
    "    red = image.select(\"B4\")\n",
    "    coeff1 = ee.Image(0.0305);\n",
    "    coeff2 = ee.Image(1.2640);\n",
    "    lai = image.expression(\n",
    "        \"(((NIR/RED)*COEFF1)+COEFF2)\",\n",
    "        {\n",
    "            \"NIR\":nir,\n",
    "            \"RED\":red,\n",
    "            \"COEFF1\":coeff1,\n",
    "            \"COEFF2\":coeff2\n",
    "        }\n",
    "    )\n",
    "    return lai\n",
    "\n",
    "def tasseled_cap_transformation(image):\n",
    "    #Tasseled Cap Transformation for Landsat 8 based on the \n",
    "    #scientfic work \"Derivation of a tasselled cap transformation based on Landsat 8 at-satellite reflectance\" \n",
    "    #by M.Baigab, L.Zhang, T.Shuai & Q.Tong (2014). The bands of the output image are the brightness index, \n",
    "    #greenness index and wetness index.\n",
    "    b = image.select(\"B2\", \"B3\", \"B4\", \"B5\", \"B6\", \"B7\");\n",
    "    #Coefficients are only for Landsat 8 TOA\n",
    "    brightness_coefficents= ee.Image([0.3029, 0.2786, 0.4733, 0.5599, 0.508, 0.1872])\n",
    "    greenness_coefficents= ee.Image([-0.2941, -0.243, -0.5424, 0.7276, 0.0713, -0.1608]);\n",
    "    wetness_coefficents= ee.Image([0.1511, 0.1973, 0.3283, 0.3407, -0.7117, -0.4559]);\n",
    "    fourth_coefficents= ee.Image([-0.8239, 0.0849, 0.4396, -0.058, 0.2013, -0.2773]);\n",
    "    fifth_coefficents= ee.Image([-0.3294, 0.0557, 0.1056, 0.1855, -0.4349, 0.8085]);\n",
    "    sixth_coefficents= ee.Image([0.1079, -0.9023, 0.4119, 0.0575, -0.0259, 0.0252]);\n",
    "    \n",
    "    #Calculate tasseled cap transformation\n",
    "    brightness = image.expression(\n",
    "        '(B * BRIGHTNESS)',\n",
    "        {\n",
    "            'B':b,\n",
    "            'BRIGHTNESS': brightness_coefficents\n",
    "        })\n",
    "    greenness = image.expression(\n",
    "        '(B * GREENNESS)',\n",
    "        {\n",
    "            'B':b,\n",
    "            'GREENNESS': greenness_coefficents\n",
    "        })\n",
    "    wetness = image.expression(\n",
    "        '(B * WETNESS)',\n",
    "        {\n",
    "            'B':b,\n",
    "            'WETNESS': wetness_coefficents\n",
    "        })\n",
    "    fourth = image.expression(\n",
    "        '(B * FOURTH)',\n",
    "        {\n",
    "            'B':b,\n",
    "            'FOURTH': fourth_coefficents\n",
    "        })\n",
    "    fifth = image.expression(\n",
    "        '(B * FIFTH)',\n",
    "        {\n",
    "            'B':b,\n",
    "            'FIFTH': fifth_coefficents\n",
    "        })\n",
    "    sixth = image.expression(\n",
    "        '(B * SIXTH)',\n",
    "        {\n",
    "            'B':b,\n",
    "            'SIXTH': sixth_coefficents\n",
    "        })\n",
    "    bright = brightness.reduce(ee.call(\"Reducer.sum\"));\n",
    "    green = greenness.reduce(ee.call(\"Reducer.sum\"));\n",
    "    wet = wetness.reduce(ee.call(\"Reducer.sum\"));\n",
    "    four = fourth.reduce(ee.call(\"Reducer.sum\"));\n",
    "    five = fifth.reduce(ee.call(\"Reducer.sum\"));\n",
    "    six = sixth.reduce(ee.call(\"Reducer.sum\"));\n",
    "    tasseled_cap = ee.Image(bright).addBands(green).addBands(wet).addBands(four).addBands(five).addBands(six)\n",
    "    return tasseled_cap.rename('brightness','greenness','wetness','fourth','fifth','sixth')"
   ]
  },
  {
   "cell_type": "code",
   "execution_count": 17,
   "metadata": {},
   "outputs": [],
   "source": [
    "tct = tasseled_cap_transformation(landsat8_collection)\n"
   ]
  },
  {
   "cell_type": "code",
   "execution_count": 18,
   "metadata": {},
   "outputs": [
    {
     "data": {
      "text/html": [
       "<img src=\"https://earthengine.googleapis.com/api/thumb?thumbid=3f8ca63699b1a9e0a4041a4b91bd8631&token=51380f918aa327fcdccdc72a4a38ceb4\"/>"
      ],
      "text/plain": [
       "<IPython.core.display.Image object>"
      ]
     },
     "execution_count": 18,
     "metadata": {},
     "output_type": "execute_result"
    }
   ],
   "source": [
    "image = tct.clip(area_of_interest)\n",
    "theGeom = area_of_interest.getInfo()['coordinates']\n",
    "thumbnail = image.getThumbUrl({'min':-1,'max':2,'size':'800','bands':['brightness','greenness','wetness'],\n",
    "                               'region':theGeom})\n",
    "Image(url=thumbnail)\n"
   ]
  },
  {
   "cell_type": "code",
   "execution_count": 19,
   "metadata": {},
   "outputs": [],
   "source": [
    "ndvi = NDVI(landsat8_collection)\n",
    "sam = SAM(landsat8_collection)\n",
    "evi = EVI(landsat8_collection)\n",
    "arvi = ARVI(landsat8_collection)\n",
    "lai = LAI(landsat8_collection)\n",
    "spectral_indices_stack = ee.Image(ndvi).addBands(lai).addBands(sam).addBands(arvi).addBands(evi).addBands(tct).addBands(landsat8_collection)\n"
   ]
  },
  {
   "cell_type": "code",
   "execution_count": 20,
   "metadata": {},
   "outputs": [
    {
     "data": {
      "text/html": [
       "<img src=\"https://earthengine.googleapis.com/api/thumb?thumbid=2ae85f7628f52de23103ec27ff3db58f&token=209cca5b11e44d85333e492caf6a93c7\"/>"
      ],
      "text/plain": [
       "<IPython.core.display.Image object>"
      ]
     },
     "execution_count": 20,
     "metadata": {},
     "output_type": "execute_result"
    }
   ],
   "source": [
    "image = ndvi.clip(area_of_interest)\n",
    "theGeom = area_of_interest.getInfo()['coordinates']\n",
    "thumbnail = image.getThumbUrl({'min':-1,'max':1,'size':'800',\n",
    "                               'region':theGeom})\n",
    "Image(url=thumbnail)\n"
   ]
  },
  {
   "cell_type": "code",
   "execution_count": 21,
   "metadata": {},
   "outputs": [],
   "source": [
    "def classification(raster_input, training_dataset,number_of_training_points, region, classification_algorithm):\n",
    "    bands = raster_input.bandNames()\n",
    "    points = ee.FeatureCollection.randomPoints(region, number_of_training_points, number_of_training_points, 1)\n",
    "    training = training_dataset.addBands(raster_input).reduceToVectors(\n",
    "        reducer='mean',\n",
    "        geometry=points,\n",
    "        geometryType='centroid',\n",
    "        scale=30,\n",
    "        crs='EPSG:4326'\n",
    "    )\n",
    "    classifier = ee.Classifier.randomForest().train(\n",
    "        features=training,\n",
    "        classProperty='label',\n",
    "        inputProperties=raster_input.bandNames(),\n",
    "    )\n",
    "    out = raster_input.classify(classifier)\n",
    "    return out"
   ]
  },
  {
   "cell_type": "code",
   "execution_count": 22,
   "metadata": {},
   "outputs": [],
   "source": [
    "output = classification(spectral_indices_stack, mexico_landcover_2010_landsat, 10000, area_of_interest, 'Cart')\n"
   ]
  },
  {
   "cell_type": "code",
   "execution_count": 23,
   "metadata": {},
   "outputs": [],
   "source": [
    "palette = ['5d9cd4','007e00','003c00','aaaa00','aa8000','8baa00','ffb265','00d900','aa007f','ff55ff','ff557f','ff007f','ff55ff','aaffff','00ffff','55aaff','e29700','bd7e00','966400','a2ecb1','c46200','aa5500','6d3600','00aa7f','008a65','005941','e9e9af','faff98',\n",
    "'00007f','c7c8bc','4d1009','000000','fef7ff','6daa50','3a7500','0b5923','ffaaff','ffd1fa']\n",
    "palette = ','.join(palette)\n",
    "\n",
    "# make a visualizing variable\n",
    "vis = {'min': 0, 'max': len(palette), 'palette': palette, 'region':theGeom}\n"
   ]
  },
  {
   "cell_type": "code",
   "execution_count": 24,
   "metadata": {},
   "outputs": [
    {
     "data": {
      "text/html": [
       "<img src=\"https://earthengine.googleapis.com/api/thumb?thumbid=789dbd637c1255d30e116abc65bd3669&token=b83a51a73c96ef20751f8811f29c73d1\"/>"
      ],
      "text/plain": [
       "<IPython.core.display.Image object>"
      ]
     },
     "execution_count": 24,
     "metadata": {},
     "output_type": "execute_result"
    }
   ],
   "source": [
    "image = mexico_landcover_2010_landsat.clip(area_of_interest)\n",
    "theGeom = area_of_interest.getInfo()['coordinates']\n",
    "thumbnail = image.getThumbUrl(vis)\n",
    "Image(url=thumbnail)\n"
   ]
  },
  {
   "cell_type": "code",
   "execution_count": 25,
   "metadata": {},
   "outputs": [
    {
     "data": {
      "text/html": [
       "<img src=\"https://earthengine.googleapis.com/api/thumb?thumbid=66e7cd2d3d56f798d72340f717e118b4&token=c133c87db6487881d0e0e26e7efaa4c4\"/>"
      ],
      "text/plain": [
       "<IPython.core.display.Image object>"
      ]
     },
     "execution_count": 25,
     "metadata": {},
     "output_type": "execute_result"
    }
   ],
   "source": [
    "image = output.clip(area_of_interest)\n",
    "theGeom = area_of_interest.getInfo()['coordinates']\n",
    "thumbnail = image.getThumbUrl(vis)\n",
    "Image(url=thumbnail)\n"
   ]
  },
  {
   "cell_type": "code",
   "execution_count": null,
   "metadata": {},
   "outputs": [],
   "source": []
  }
 ],
 "metadata": {
  "kernelspec": {
   "display_name": "Python 3",
   "language": "python",
   "name": "python3"
  },
  "language_info": {
   "codemirror_mode": {
    "name": "ipython",
    "version": 3
   },
   "file_extension": ".py",
   "mimetype": "text/x-python",
   "name": "python",
   "nbconvert_exporter": "python",
   "pygments_lexer": "ipython3",
   "version": "3.7.5"
  }
 },
 "nbformat": 4,
 "nbformat_minor": 2
}
