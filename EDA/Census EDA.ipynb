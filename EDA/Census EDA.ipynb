{
 "cells": [
  {
   "cell_type": "markdown",
   "metadata": {},
   "source": [
    "## Census EDA\n",
    "\n",
    "#### Data Collection:\n",
    "To get the data, copy example code from this site: https://api.census.gov/data/2017/acs/acs5/profile/examples.html\n",
    "\n",
    "Variables are at this site:\n",
    "https://api.census.gov/data/2017/acs/acs5/profile/variables.html\n",
    "\n",
    "Include your API_key and you should be good to go!"
   ]
  },
  {
   "cell_type": "code",
   "execution_count": 135,
   "metadata": {},
   "outputs": [],
   "source": [
    "API_KEY = open('api_key','r')\n",
    "API_KEY=API_KEY.read()\n",
    "API_KEY = API_KEY.strip()"
   ]
  },
  {
   "cell_type": "code",
   "execution_count": 136,
   "metadata": {
    "scrolled": false
   },
   "outputs": [
    {
     "data": {
      "text/plain": [
       "('36', '39')"
      ]
     },
     "execution_count": 136,
     "metadata": {},
     "output_type": "execute_result"
    }
   ],
   "source": [
    "states.NY.fips, states.OH.fips"
   ]
  },
  {
   "cell_type": "code",
   "execution_count": 137,
   "metadata": {},
   "outputs": [
    {
     "data": {
      "text/plain": [
       "<Response [200]>"
      ]
     },
     "execution_count": 137,
     "metadata": {},
     "output_type": "execute_result"
    }
   ],
   "source": [
    "#make API calls with python\n",
    "import requests\n",
    "\n",
    "#allows us to store results of API call cleanly\n",
    "import json\n",
    "\n",
    "ohio_url = \"https://api.census.gov/data/2017/acs/acs5/profile?get=DP03_0062E,DP05_0033E,DP05_0064E,DP05_0064PE,DP05_0065PE,DP02_0015E,DP04_0024PE,DP04_0023PE,NAME&for=tract:*&in=state:39&key=\"\n",
    "url_fin = ohio_url+API_KEY\n",
    "ohio_response = requests.get(ohio_url)\n",
    "\n",
    "ny_url = \"https://api.census.gov/data/2017/acs/acs5/profile?get=DP03_0062E,DP05_0033E,DP05_0064E,DP05_0064PE,DP05_0065PE,DP02_0015E,DP04_0024PE,DP04_0023PE,NAME&for=tract:*&in=state:36&key=\"\n",
    "url_fin = ny_url+API_KEY\n",
    "ny_response = requests.get(ny_url)\n",
    "\n",
    "\n",
    "\n",
    "ny_response\n"
   ]
  },
  {
   "cell_type": "code",
   "execution_count": 138,
   "metadata": {},
   "outputs": [],
   "source": [
    "df_ohio = pd.DataFrame(ohio_response.json())\n",
    "df_ohio.columns = df.iloc[0]\n",
    "df_ohio.columns = ['Median_hh_income','Total_population',\n",
    "              'Total_white_population','Percent_white_population',\n",
    "              'Percent_black_population','Average_hh_size',\n",
    "              'Percent_hh_built_1950s','Percent_hh_built_1960s',\n",
    "              'NAME','state','county','tract']\n",
    "df_ohio = df_ohio[1:]"
   ]
  },
  {
   "cell_type": "code",
   "execution_count": 139,
   "metadata": {},
   "outputs": [],
   "source": [
    "df_ny = pd.DataFrame(ny_response.json())\n",
    "df_ny.columns = df.iloc[0]\n",
    "df_ny.columns = ['Median_hh_income','Total_population',\n",
    "              'Total_white_population','Percent_white_population',\n",
    "              'Percent_black_population','Average_hh_size',\n",
    "              'Percent_hh_built_1950s','Percent_hh_built_1960s',\n",
    "              'NAME','state','county','tract']\n",
    "df_ny = df_ny[1:]"
   ]
  },
  {
   "cell_type": "code",
   "execution_count": 140,
   "metadata": {
    "scrolled": false
   },
   "outputs": [
    {
     "data": {
      "text/html": [
       "<div>\n",
       "<style scoped>\n",
       "    .dataframe tbody tr th:only-of-type {\n",
       "        vertical-align: middle;\n",
       "    }\n",
       "\n",
       "    .dataframe tbody tr th {\n",
       "        vertical-align: top;\n",
       "    }\n",
       "\n",
       "    .dataframe thead th {\n",
       "        text-align: right;\n",
       "    }\n",
       "</style>\n",
       "<table border=\"1\" class=\"dataframe\">\n",
       "  <thead>\n",
       "    <tr style=\"text-align: right;\">\n",
       "      <th></th>\n",
       "      <th>Median_hh_income</th>\n",
       "      <th>Total_population</th>\n",
       "      <th>Total_white_population</th>\n",
       "      <th>Percent_white_population</th>\n",
       "      <th>Percent_black_population</th>\n",
       "      <th>Average_hh_size</th>\n",
       "      <th>Percent_hh_built_1950s</th>\n",
       "      <th>Percent_hh_built_1960s</th>\n",
       "      <th>NAME</th>\n",
       "      <th>state</th>\n",
       "      <th>county</th>\n",
       "      <th>tract</th>\n",
       "    </tr>\n",
       "  </thead>\n",
       "  <tbody>\n",
       "    <tr>\n",
       "      <th>1</th>\n",
       "      <td>64311</td>\n",
       "      <td>6726</td>\n",
       "      <td>3454</td>\n",
       "      <td>51.4</td>\n",
       "      <td>11.5</td>\n",
       "      <td>2.77</td>\n",
       "      <td>27.1</td>\n",
       "      <td>27.9</td>\n",
       "      <td>Census Tract 134, Westchester County, New York</td>\n",
       "      <td>36</td>\n",
       "      <td>119</td>\n",
       "      <td>013400</td>\n",
       "    </tr>\n",
       "    <tr>\n",
       "      <th>2</th>\n",
       "      <td>84063</td>\n",
       "      <td>3889</td>\n",
       "      <td>2534</td>\n",
       "      <td>65.2</td>\n",
       "      <td>5.6</td>\n",
       "      <td>3.25</td>\n",
       "      <td>21.0</td>\n",
       "      <td>6.2</td>\n",
       "      <td>Census Tract 135, Westchester County, New York</td>\n",
       "      <td>36</td>\n",
       "      <td>119</td>\n",
       "      <td>013500</td>\n",
       "    </tr>\n",
       "    <tr>\n",
       "      <th>3</th>\n",
       "      <td>63418</td>\n",
       "      <td>3248</td>\n",
       "      <td>2332</td>\n",
       "      <td>71.8</td>\n",
       "      <td>8.7</td>\n",
       "      <td>1.88</td>\n",
       "      <td>27.2</td>\n",
       "      <td>27.7</td>\n",
       "      <td>Census Tract 146.05, Westchester County, New York</td>\n",
       "      <td>36</td>\n",
       "      <td>119</td>\n",
       "      <td>014605</td>\n",
       "    </tr>\n",
       "    <tr>\n",
       "      <th>4</th>\n",
       "      <td>-666666666</td>\n",
       "      <td>21</td>\n",
       "      <td>21</td>\n",
       "      <td>100.0</td>\n",
       "      <td>0.0</td>\n",
       "      <td>-666666666.00</td>\n",
       "      <td>0.0</td>\n",
       "      <td>0.0</td>\n",
       "      <td>Census Tract 1.04, Westchester County, New York</td>\n",
       "      <td>36</td>\n",
       "      <td>119</td>\n",
       "      <td>000104</td>\n",
       "    </tr>\n",
       "    <tr>\n",
       "      <th>5</th>\n",
       "      <td>168500</td>\n",
       "      <td>2920</td>\n",
       "      <td>2210</td>\n",
       "      <td>75.7</td>\n",
       "      <td>12.5</td>\n",
       "      <td>3.04</td>\n",
       "      <td>64.0</td>\n",
       "      <td>11.1</td>\n",
       "      <td>Census Tract 111.02, Westchester County, New York</td>\n",
       "      <td>36</td>\n",
       "      <td>119</td>\n",
       "      <td>011102</td>\n",
       "    </tr>\n",
       "  </tbody>\n",
       "</table>\n",
       "</div>"
      ],
      "text/plain": [
       "  Median_hh_income Total_population Total_white_population  \\\n",
       "1            64311             6726                   3454   \n",
       "2            84063             3889                   2534   \n",
       "3            63418             3248                   2332   \n",
       "4       -666666666               21                     21   \n",
       "5           168500             2920                   2210   \n",
       "\n",
       "  Percent_white_population Percent_black_population Average_hh_size  \\\n",
       "1                     51.4                     11.5            2.77   \n",
       "2                     65.2                      5.6            3.25   \n",
       "3                     71.8                      8.7            1.88   \n",
       "4                    100.0                      0.0   -666666666.00   \n",
       "5                     75.7                     12.5            3.04   \n",
       "\n",
       "  Percent_hh_built_1950s Percent_hh_built_1960s  \\\n",
       "1                   27.1                   27.9   \n",
       "2                   21.0                    6.2   \n",
       "3                   27.2                   27.7   \n",
       "4                    0.0                    0.0   \n",
       "5                   64.0                   11.1   \n",
       "\n",
       "                                                NAME state county   tract  \n",
       "1     Census Tract 134, Westchester County, New York    36    119  013400  \n",
       "2     Census Tract 135, Westchester County, New York    36    119  013500  \n",
       "3  Census Tract 146.05, Westchester County, New York    36    119  014605  \n",
       "4    Census Tract 1.04, Westchester County, New York    36    119  000104  \n",
       "5  Census Tract 111.02, Westchester County, New York    36    119  011102  "
      ]
     },
     "execution_count": 140,
     "metadata": {},
     "output_type": "execute_result"
    }
   ],
   "source": [
    "df_ny.head()"
   ]
  },
  {
   "cell_type": "code",
   "execution_count": 141,
   "metadata": {},
   "outputs": [
    {
     "data": {
      "text/plain": [
       "(4918, 2952)"
      ]
     },
     "execution_count": 141,
     "metadata": {},
     "output_type": "execute_result"
    }
   ],
   "source": [
    "len(df_ny), len(df_ohio)"
   ]
  },
  {
   "cell_type": "code",
   "execution_count": 142,
   "metadata": {},
   "outputs": [],
   "source": [
    "df_ohio.to_csv(\"Ohio_census_data.csv\")"
   ]
  },
  {
   "cell_type": "code",
   "execution_count": 144,
   "metadata": {},
   "outputs": [],
   "source": [
    "df_ny.to_csv(\"New_York_census_data.csv\")"
   ]
  }
 ],
 "metadata": {
  "kernelspec": {
   "display_name": "Python 3",
   "language": "python",
   "name": "python3"
  },
  "language_info": {
   "codemirror_mode": {
    "name": "ipython",
    "version": 3
   },
   "file_extension": ".py",
   "mimetype": "text/x-python",
   "name": "python",
   "nbconvert_exporter": "python",
   "pygments_lexer": "ipython3",
   "version": "3.7.5"
  }
 },
 "nbformat": 4,
 "nbformat_minor": 2
}
